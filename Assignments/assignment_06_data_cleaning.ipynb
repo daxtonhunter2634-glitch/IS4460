{
  "cells": [
    {
      "cell_type": "markdown",
      "metadata": {
        "id": "avCbnNj5RTDb"
      },
      "source": [
        "# IS 4487 Assignment 6: Data Cleaning with Airbnb Listings\n",
        "\n",
        "In this assignment, you will:\n",
        "- Load a raw Airbnb listings dataset\n",
        "- Identify and resolve missing or inconsistent data\n",
        "- Decide what data to drop, keep, or clean\n",
        "- Save a clean dataset to use in Assignment 7\n",
        "\n",
        "## Why This Matters\n",
        "\n",
        "Data cleaning is one of the most important steps in any analysis — but it's often the least visible. Airbnb hosts, managers, and policy teams rely on clean data to make decisions. This assignment gives you experience cleaning raw data and justifying your choices so others can understand your process.\n",
        "\n",
        "<a href=\"https://colab.research.google.com/github/vandanara/UofUtah_IS4487/blob/main/Assignments/assignment_06_data_cleaning.ipynb\" target=\"_parent\">\n",
        "  <img src=\"https://colab.research.google.com/assets/colab-badge.svg\" alt=\"Open In Colab\"/>\n",
        "</a>\n",
        "\n"
      ]
    },
    {
      "cell_type": "markdown",
      "metadata": {
        "id": "-YtEOclERnZ8"
      },
      "source": [
        "## Dataset Description\n",
        "\n",
        "The dataset you'll be using is a **detailed Airbnb listing file**, available from [Inside Airbnb](https://insideairbnb.com/get-the-data/).\n",
        "\n",
        "Each row represents one property listing. The columns include:\n",
        "\n",
        "- **Host attributes** (e.g., host ID, host name, host response time)\n",
        "- **Listing details** (e.g., price, room type, minimum nights, availability)\n",
        "- **Location data** (e.g., neighborhood, latitude/longitude)\n",
        "- **Property characteristics** (e.g., number of bedrooms, amenities, accommodates)\n",
        "- **Calendar/booking variables** (e.g., last review date, number of reviews)\n",
        "\n",
        "📌 The schema is consistent across cities, so you can expect similar columns regardless of the location you choose.\n"
      ]
    },
    {
      "cell_type": "markdown",
      "metadata": {
        "id": "Rl-WZK3kRs_9"
      },
      "source": [
        "## 1. Choose a City & Upload Your Dataset\n",
        "\n",
        "📥 Follow these steps:\n",
        "\n",
        "1. Go to: [https://insideairbnb.com/get-the-data/](https://insideairbnb.com/get-the-data/)\n",
        "2. Choose a city you’re interested in.\n",
        "3. Download the file named: **`listings.csv.gz`** under that city.\n",
        "4. In your notebook:\n",
        "   - Open the left sidebar\n",
        "   - Click the folder icon 📁\n",
        "   - Click the upload icon ⬆️ and choose your `listings.csv.gz` file\n",
        "5. Use the file path `/content/listings.csv.gz` when loading your data.\n",
        "6. Import standard libraries (`pandas`, `numpy`, `seaborn`, `matplotlib`)\n"
      ]
    },
    {
      "cell_type": "code",
      "execution_count": 20,
      "metadata": {
        "id": "F91Dj_UjCH1C"
      },
      "outputs": [],
      "source": [
        "# Import necessary libraries 🔧\n",
        "import pandas as pd\n",
        "import numpy as np\n",
        "import seaborn as sns\n",
        "import matplotlib.pyplot as plt"
      ]
    },
    {
      "cell_type": "code",
      "execution_count": 21,
      "metadata": {
        "id": "05dzhQHzR0vt"
      },
      "outputs": [],
      "source": [
        "# Load your uploaded file (path \"/content/listings.csv.gz\") 🔧\n",
        "df = pd.read_csv(\"/content/listings.csv.gz\")"
      ]
    },
    {
      "cell_type": "markdown",
      "metadata": {
        "id": "aKeLPILuR6J8"
      },
      "source": [
        "## 2. Explore Missing Values\n",
        "\n",
        "Business framing:\n",
        "\n",
        "Stakeholders don’t like surprises in the data. Missing values can break dashboards, confuse pricing models, or create blind spots for host managers.\n",
        "\n",
        "Explore how complete your dataset is:\n",
        "- Count the null values of each column\n",
        "- Create visuals (e.g. heatmaps, boxplots, bar charts, etc) to help show what columns are missing values\n",
        "- Keep in mind which column(s) are missing too much data, you will delete these in the next step\n",
        "\n",
        "### In your markdown:\n",
        "1. What are the top 3 columns with the most missing values?\n",
        "2. Which ones are likely to create business issues?\n",
        "3. Which could be safely ignored or dropped?\n",
        "\n"
      ]
    },
    {
      "cell_type": "code",
      "execution_count": null,
      "metadata": {
        "id": "W8HxUf-YR5o5"
      },
      "outputs": [],
      "source": [
        "# Add code here 🔧\n",
        "print(\"Missing values per column:\\n\", df.isnull().sum())"
      ]
    },
    {
      "cell_type": "markdown",
      "metadata": {
        "id": "2R5FRgTbGY9G"
      },
      "source": [
        "### ✍️ Your Response: 🔧\n",
        "1.The top columns with missing data are: neighbourhood_group_cleansed and calendar_updated with all the values missing, host_neightbourhood has 7354 values missing, bathrooms with 3791 values missing, beds with 3827 missing, and price with 3847 values missing from the dataset.\n",
        "\n",
        "2. From the top 3 the host_neighbourhood value would be the one to create business issues, but from below the top 3 there are many values that could create issues.\n",
        "\n",
        "3. The neighbourhood_group_cleansed and calendar_updated are values that can be safely dropped or ignored.\n",
        "\n"
      ]
    },
    {
      "cell_type": "markdown",
      "metadata": {
        "id": "4LCyzSZ8R-MI"
      },
      "source": [
        "## 3. Drop Columns That Aren’t Useful\n",
        "\n",
        "Business framing:  \n",
        "\n",
        "Not every column adds value. Analysts often remove columns that are too empty, irrelevant, or repetitive — especially when preparing data for others.\n",
        "\n",
        "Make a decision:\n",
        "\n",
        "- Choose 2–4 columns to drop from your dataset\n",
        "- Document your reasons for each one\n",
        "- Confirm they're gone with `.head()` or `.info()`\n",
        "\n",
        "### In Your Response:\n",
        "1. Which columns did you drop?\n",
        "2. Why were they not useful from a business perspective?\n",
        "3. What could go wrong if you left them in?\n",
        "\n"
      ]
    },
    {
      "cell_type": "code",
      "execution_count": null,
      "metadata": {
        "id": "GvQDqSfPSD-3"
      },
      "outputs": [],
      "source": [
        "# Add code here 🔧"
      ]
    },
    {
      "cell_type": "code",
      "source": [
        "df = df.drop('neighbourhood_group_cleansed', axis=1)"
      ],
      "metadata": {
        "id": "uoNv8BI5CeQY"
      },
      "execution_count": 56,
      "outputs": []
    },
    {
      "cell_type": "code",
      "source": [
        "df = df.drop('review_scores_checkin', axis=1)"
      ],
      "metadata": {
        "id": "HwHIBcQFCgQ1"
      },
      "execution_count": 57,
      "outputs": []
    },
    {
      "cell_type": "code",
      "source": [
        "df = df.drop('calendar_updated', axis=1)"
      ],
      "metadata": {
        "colab": {
          "base_uri": "https://localhost:8080/",
          "height": 293
        },
        "id": "0eyEvO8TCgx-",
        "outputId": "e58cd7e9-ab46-4209-d3c3-f189f6ad9ded"
      },
      "execution_count": 58,
      "outputs": [
        {
          "output_type": "error",
          "ename": "KeyError",
          "evalue": "\"['calendar_updated'] not found in axis\"",
          "traceback": [
            "\u001b[0;31m---------------------------------------------------------------------------\u001b[0m",
            "\u001b[0;31mKeyError\u001b[0m                                  Traceback (most recent call last)",
            "\u001b[0;32m/tmp/ipython-input-925777269.py\u001b[0m in \u001b[0;36m<cell line: 0>\u001b[0;34m()\u001b[0m\n\u001b[0;32m----> 1\u001b[0;31m \u001b[0mdf\u001b[0m \u001b[0;34m=\u001b[0m \u001b[0mdf\u001b[0m\u001b[0;34m.\u001b[0m\u001b[0mdrop\u001b[0m\u001b[0;34m(\u001b[0m\u001b[0;34m'calendar_updated'\u001b[0m\u001b[0;34m,\u001b[0m \u001b[0maxis\u001b[0m\u001b[0;34m=\u001b[0m\u001b[0;36m1\u001b[0m\u001b[0;34m)\u001b[0m\u001b[0;34m\u001b[0m\u001b[0;34m\u001b[0m\u001b[0m\n\u001b[0m",
            "\u001b[0;32m/usr/local/lib/python3.12/dist-packages/pandas/core/frame.py\u001b[0m in \u001b[0;36mdrop\u001b[0;34m(self, labels, axis, index, columns, level, inplace, errors)\u001b[0m\n\u001b[1;32m   5579\u001b[0m                 \u001b[0mweight\u001b[0m  \u001b[0;36m1.0\u001b[0m     \u001b[0;36m0.8\u001b[0m\u001b[0;34m\u001b[0m\u001b[0;34m\u001b[0m\u001b[0m\n\u001b[1;32m   5580\u001b[0m         \"\"\"\n\u001b[0;32m-> 5581\u001b[0;31m         return super().drop(\n\u001b[0m\u001b[1;32m   5582\u001b[0m             \u001b[0mlabels\u001b[0m\u001b[0;34m=\u001b[0m\u001b[0mlabels\u001b[0m\u001b[0;34m,\u001b[0m\u001b[0;34m\u001b[0m\u001b[0;34m\u001b[0m\u001b[0m\n\u001b[1;32m   5583\u001b[0m             \u001b[0maxis\u001b[0m\u001b[0;34m=\u001b[0m\u001b[0maxis\u001b[0m\u001b[0;34m,\u001b[0m\u001b[0;34m\u001b[0m\u001b[0;34m\u001b[0m\u001b[0m\n",
            "\u001b[0;32m/usr/local/lib/python3.12/dist-packages/pandas/core/generic.py\u001b[0m in \u001b[0;36mdrop\u001b[0;34m(self, labels, axis, index, columns, level, inplace, errors)\u001b[0m\n\u001b[1;32m   4786\u001b[0m         \u001b[0;32mfor\u001b[0m \u001b[0maxis\u001b[0m\u001b[0;34m,\u001b[0m \u001b[0mlabels\u001b[0m \u001b[0;32min\u001b[0m \u001b[0maxes\u001b[0m\u001b[0;34m.\u001b[0m\u001b[0mitems\u001b[0m\u001b[0;34m(\u001b[0m\u001b[0;34m)\u001b[0m\u001b[0;34m:\u001b[0m\u001b[0;34m\u001b[0m\u001b[0;34m\u001b[0m\u001b[0m\n\u001b[1;32m   4787\u001b[0m             \u001b[0;32mif\u001b[0m \u001b[0mlabels\u001b[0m \u001b[0;32mis\u001b[0m \u001b[0;32mnot\u001b[0m \u001b[0;32mNone\u001b[0m\u001b[0;34m:\u001b[0m\u001b[0;34m\u001b[0m\u001b[0;34m\u001b[0m\u001b[0m\n\u001b[0;32m-> 4788\u001b[0;31m                 \u001b[0mobj\u001b[0m \u001b[0;34m=\u001b[0m \u001b[0mobj\u001b[0m\u001b[0;34m.\u001b[0m\u001b[0m_drop_axis\u001b[0m\u001b[0;34m(\u001b[0m\u001b[0mlabels\u001b[0m\u001b[0;34m,\u001b[0m \u001b[0maxis\u001b[0m\u001b[0;34m,\u001b[0m \u001b[0mlevel\u001b[0m\u001b[0;34m=\u001b[0m\u001b[0mlevel\u001b[0m\u001b[0;34m,\u001b[0m \u001b[0merrors\u001b[0m\u001b[0;34m=\u001b[0m\u001b[0merrors\u001b[0m\u001b[0;34m)\u001b[0m\u001b[0;34m\u001b[0m\u001b[0;34m\u001b[0m\u001b[0m\n\u001b[0m\u001b[1;32m   4789\u001b[0m \u001b[0;34m\u001b[0m\u001b[0m\n\u001b[1;32m   4790\u001b[0m         \u001b[0;32mif\u001b[0m \u001b[0minplace\u001b[0m\u001b[0;34m:\u001b[0m\u001b[0;34m\u001b[0m\u001b[0;34m\u001b[0m\u001b[0m\n",
            "\u001b[0;32m/usr/local/lib/python3.12/dist-packages/pandas/core/generic.py\u001b[0m in \u001b[0;36m_drop_axis\u001b[0;34m(self, labels, axis, level, errors, only_slice)\u001b[0m\n\u001b[1;32m   4828\u001b[0m                 \u001b[0mnew_axis\u001b[0m \u001b[0;34m=\u001b[0m \u001b[0maxis\u001b[0m\u001b[0;34m.\u001b[0m\u001b[0mdrop\u001b[0m\u001b[0;34m(\u001b[0m\u001b[0mlabels\u001b[0m\u001b[0;34m,\u001b[0m \u001b[0mlevel\u001b[0m\u001b[0;34m=\u001b[0m\u001b[0mlevel\u001b[0m\u001b[0;34m,\u001b[0m \u001b[0merrors\u001b[0m\u001b[0;34m=\u001b[0m\u001b[0merrors\u001b[0m\u001b[0;34m)\u001b[0m\u001b[0;34m\u001b[0m\u001b[0;34m\u001b[0m\u001b[0m\n\u001b[1;32m   4829\u001b[0m             \u001b[0;32melse\u001b[0m\u001b[0;34m:\u001b[0m\u001b[0;34m\u001b[0m\u001b[0;34m\u001b[0m\u001b[0m\n\u001b[0;32m-> 4830\u001b[0;31m                 \u001b[0mnew_axis\u001b[0m \u001b[0;34m=\u001b[0m \u001b[0maxis\u001b[0m\u001b[0;34m.\u001b[0m\u001b[0mdrop\u001b[0m\u001b[0;34m(\u001b[0m\u001b[0mlabels\u001b[0m\u001b[0;34m,\u001b[0m \u001b[0merrors\u001b[0m\u001b[0;34m=\u001b[0m\u001b[0merrors\u001b[0m\u001b[0;34m)\u001b[0m\u001b[0;34m\u001b[0m\u001b[0;34m\u001b[0m\u001b[0m\n\u001b[0m\u001b[1;32m   4831\u001b[0m             \u001b[0mindexer\u001b[0m \u001b[0;34m=\u001b[0m \u001b[0maxis\u001b[0m\u001b[0;34m.\u001b[0m\u001b[0mget_indexer\u001b[0m\u001b[0;34m(\u001b[0m\u001b[0mnew_axis\u001b[0m\u001b[0;34m)\u001b[0m\u001b[0;34m\u001b[0m\u001b[0;34m\u001b[0m\u001b[0m\n\u001b[1;32m   4832\u001b[0m \u001b[0;34m\u001b[0m\u001b[0m\n",
            "\u001b[0;32m/usr/local/lib/python3.12/dist-packages/pandas/core/indexes/base.py\u001b[0m in \u001b[0;36mdrop\u001b[0;34m(self, labels, errors)\u001b[0m\n\u001b[1;32m   7068\u001b[0m         \u001b[0;32mif\u001b[0m \u001b[0mmask\u001b[0m\u001b[0;34m.\u001b[0m\u001b[0many\u001b[0m\u001b[0;34m(\u001b[0m\u001b[0;34m)\u001b[0m\u001b[0;34m:\u001b[0m\u001b[0;34m\u001b[0m\u001b[0;34m\u001b[0m\u001b[0m\n\u001b[1;32m   7069\u001b[0m             \u001b[0;32mif\u001b[0m \u001b[0merrors\u001b[0m \u001b[0;34m!=\u001b[0m \u001b[0;34m\"ignore\"\u001b[0m\u001b[0;34m:\u001b[0m\u001b[0;34m\u001b[0m\u001b[0;34m\u001b[0m\u001b[0m\n\u001b[0;32m-> 7070\u001b[0;31m                 \u001b[0;32mraise\u001b[0m \u001b[0mKeyError\u001b[0m\u001b[0;34m(\u001b[0m\u001b[0;34mf\"{labels[mask].tolist()} not found in axis\"\u001b[0m\u001b[0;34m)\u001b[0m\u001b[0;34m\u001b[0m\u001b[0;34m\u001b[0m\u001b[0m\n\u001b[0m\u001b[1;32m   7071\u001b[0m             \u001b[0mindexer\u001b[0m \u001b[0;34m=\u001b[0m \u001b[0mindexer\u001b[0m\u001b[0;34m[\u001b[0m\u001b[0;34m~\u001b[0m\u001b[0mmask\u001b[0m\u001b[0;34m]\u001b[0m\u001b[0;34m\u001b[0m\u001b[0;34m\u001b[0m\u001b[0m\n\u001b[1;32m   7072\u001b[0m         \u001b[0;32mreturn\u001b[0m \u001b[0mself\u001b[0m\u001b[0;34m.\u001b[0m\u001b[0mdelete\u001b[0m\u001b[0;34m(\u001b[0m\u001b[0mindexer\u001b[0m\u001b[0;34m)\u001b[0m\u001b[0;34m\u001b[0m\u001b[0;34m\u001b[0m\u001b[0m\n",
            "\u001b[0;31mKeyError\u001b[0m: \"['calendar_updated'] not found in axis\""
          ]
        }
      ]
    },
    {
      "cell_type": "code",
      "source": [
        "df.info()"
      ],
      "metadata": {
        "colab": {
          "base_uri": "https://localhost:8080/"
        },
        "id": "8OfjExlKCo9E",
        "outputId": "fc1d9d20-2bbc-428e-99c5-a850ba567f37"
      },
      "execution_count": 25,
      "outputs": [
        {
          "output_type": "stream",
          "name": "stdout",
          "text": [
            "<class 'pandas.core.frame.DataFrame'>\n",
            "RangeIndex: 10168 entries, 0 to 10167\n",
            "Data columns (total 76 columns):\n",
            " #   Column                                        Non-Null Count  Dtype  \n",
            "---  ------                                        --------------  -----  \n",
            " 0   id                                            10168 non-null  int64  \n",
            " 1   listing_url                                   10168 non-null  object \n",
            " 2   scrape_id                                     10168 non-null  int64  \n",
            " 3   last_scraped                                  10168 non-null  object \n",
            " 4   source                                        10168 non-null  object \n",
            " 5   name                                          10168 non-null  object \n",
            " 6   description                                   9859 non-null   object \n",
            " 7   neighborhood_overview                         5258 non-null   object \n",
            " 8   picture_url                                   10168 non-null  object \n",
            " 9   host_id                                       10168 non-null  int64  \n",
            " 10  host_url                                      10168 non-null  object \n",
            " 11  host_name                                     10164 non-null  object \n",
            " 12  host_since                                    10164 non-null  object \n",
            " 13  host_location                                 9024 non-null   object \n",
            " 14  host_about                                    5372 non-null   object \n",
            " 15  host_response_time                            6640 non-null   object \n",
            " 16  host_response_rate                            6640 non-null   object \n",
            " 17  host_acceptance_rate                          7937 non-null   object \n",
            " 18  host_is_superhost                             10069 non-null  object \n",
            " 19  host_thumbnail_url                            10164 non-null  object \n",
            " 20  host_picture_url                              10164 non-null  object \n",
            " 21  host_neighbourhood                            2814 non-null   object \n",
            " 22  host_listings_count                           10164 non-null  float64\n",
            " 23  host_total_listings_count                     10164 non-null  float64\n",
            " 24  host_verifications                            10164 non-null  object \n",
            " 25  host_has_profile_pic                          10164 non-null  object \n",
            " 26  host_identity_verified                        10164 non-null  object \n",
            " 27  neighbourhood                                 5258 non-null   object \n",
            " 28  neighbourhood_cleansed                        10168 non-null  object \n",
            " 29  latitude                                      10168 non-null  float64\n",
            " 30  longitude                                     10168 non-null  float64\n",
            " 31  property_type                                 10168 non-null  object \n",
            " 32  room_type                                     10168 non-null  object \n",
            " 33  accommodates                                  10168 non-null  int64  \n",
            " 34  bathrooms                                     6377 non-null   float64\n",
            " 35  bathrooms_text                                10162 non-null  object \n",
            " 36  bedrooms                                      9874 non-null   float64\n",
            " 37  beds                                          6341 non-null   float64\n",
            " 38  amenities                                     10168 non-null  object \n",
            " 39  price                                         6321 non-null   object \n",
            " 40  minimum_nights                                10168 non-null  int64  \n",
            " 41  maximum_nights                                10168 non-null  int64  \n",
            " 42  minimum_minimum_nights                        10168 non-null  int64  \n",
            " 43  maximum_minimum_nights                        10168 non-null  int64  \n",
            " 44  minimum_maximum_nights                        10168 non-null  int64  \n",
            " 45  maximum_maximum_nights                        10168 non-null  int64  \n",
            " 46  minimum_nights_avg_ntm                        10168 non-null  float64\n",
            " 47  maximum_nights_avg_ntm                        10168 non-null  float64\n",
            " 48  has_availability                              9849 non-null   object \n",
            " 49  availability_30                               10168 non-null  int64  \n",
            " 50  availability_60                               10168 non-null  int64  \n",
            " 51  availability_90                               10168 non-null  int64  \n",
            " 52  availability_365                              10168 non-null  int64  \n",
            " 53  calendar_last_scraped                         10168 non-null  object \n",
            " 54  number_of_reviews                             10168 non-null  int64  \n",
            " 55  number_of_reviews_ltm                         10168 non-null  int64  \n",
            " 56  number_of_reviews_l30d                        10168 non-null  int64  \n",
            " 57  availability_eoy                              10168 non-null  int64  \n",
            " 58  number_of_reviews_ly                          10168 non-null  int64  \n",
            " 59  estimated_occupancy_l365d                     10168 non-null  int64  \n",
            " 60  estimated_revenue_l365d                       6321 non-null   float64\n",
            " 61  first_review                                  9198 non-null   object \n",
            " 62  last_review                                   9198 non-null   object \n",
            " 63  review_scores_rating                          9198 non-null   float64\n",
            " 64  review_scores_accuracy                        9198 non-null   float64\n",
            " 65  review_scores_cleanliness                     9197 non-null   float64\n",
            " 66  review_scores_communication                   9198 non-null   float64\n",
            " 67  review_scores_location                        9198 non-null   float64\n",
            " 68  review_scores_value                           9198 non-null   float64\n",
            " 69  license                                       10062 non-null  object \n",
            " 70  instant_bookable                              10168 non-null  object \n",
            " 71  calculated_host_listings_count                10168 non-null  int64  \n",
            " 72  calculated_host_listings_count_entire_homes   10168 non-null  int64  \n",
            " 73  calculated_host_listings_count_private_rooms  10168 non-null  int64  \n",
            " 74  calculated_host_listings_count_shared_rooms   10168 non-null  int64  \n",
            " 75  reviews_per_month                             9198 non-null   float64\n",
            "dtypes: float64(17), int64(24), object(35)\n",
            "memory usage: 5.9+ MB\n"
          ]
        }
      ]
    },
    {
      "cell_type": "markdown",
      "metadata": {
        "id": "WWR4HiV9GJVY"
      },
      "source": [
        "### ✍️ Your Response: 🔧\n",
        "1. The neighbourhood_group_cleansed, calendar_updated, and review_scores_checkin.\n",
        "Why were they not useful from a business perspective?\n",
        "What could go wrong if you left them in?\n",
        "\n",
        "2. The first two did not have any values to them so I dropped them. And the review scores checkin was just another subset of data for the review score and is not essential for the business process.\n",
        "\n",
        "3. Not much could have gone wrong, but the values of those columns would be taking up space and putting NaN values in the dataset.\n",
        "\n",
        "\n"
      ]
    },
    {
      "cell_type": "markdown",
      "metadata": {
        "id": "0CtWLg_LSHNd"
      },
      "source": [
        "## 4. Fill or Fix Values in Key Columns\n",
        "\n",
        "Business framing:  \n",
        "\n",
        "Let’s say your manager wants to see a map of listings with prices and review scores. If key fields are blank, the map won’t work. But not all missing values should be filled the same way.\n",
        "\n",
        "- Choose 2 columns with missing values\n",
        "- Use a strategy to fill or flag those values\n",
        "  - (e.g., median, “unknown”, forward-fill, or a placeholder)\n",
        "- Explain what you did and why\n",
        "\n",
        "### In your response:\n",
        "1. What two columns did you clean?\n",
        "2. What method did you use for each, and why?\n",
        "3. What risks are there in how you filled the data?"
      ]
    },
    {
      "cell_type": "code",
      "execution_count": 26,
      "metadata": {
        "id": "AfoW3qQeSJuB"
      },
      "outputs": [],
      "source": [
        "# Your code for converting column data types 🔧\n",
        "df['price'] = df['price'].ffill()\n"
      ]
    },
    {
      "cell_type": "code",
      "source": [
        "df['review_scores_rating'] = df['review_scores_rating'].fillna(df['review_scores_rating'].median())\n"
      ],
      "metadata": {
        "id": "rh3ybrqnDIlz"
      },
      "execution_count": 28,
      "outputs": []
    },
    {
      "cell_type": "code",
      "source": [
        "df.info()"
      ],
      "metadata": {
        "colab": {
          "base_uri": "https://localhost:8080/"
        },
        "id": "R1O5Xt5ADCXH",
        "outputId": "ac397174-c12b-4656-a52b-7e0c37ebc650"
      },
      "execution_count": 29,
      "outputs": [
        {
          "output_type": "stream",
          "name": "stdout",
          "text": [
            "<class 'pandas.core.frame.DataFrame'>\n",
            "RangeIndex: 10168 entries, 0 to 10167\n",
            "Data columns (total 76 columns):\n",
            " #   Column                                        Non-Null Count  Dtype  \n",
            "---  ------                                        --------------  -----  \n",
            " 0   id                                            10168 non-null  int64  \n",
            " 1   listing_url                                   10168 non-null  object \n",
            " 2   scrape_id                                     10168 non-null  int64  \n",
            " 3   last_scraped                                  10168 non-null  object \n",
            " 4   source                                        10168 non-null  object \n",
            " 5   name                                          10168 non-null  object \n",
            " 6   description                                   9859 non-null   object \n",
            " 7   neighborhood_overview                         5258 non-null   object \n",
            " 8   picture_url                                   10168 non-null  object \n",
            " 9   host_id                                       10168 non-null  int64  \n",
            " 10  host_url                                      10168 non-null  object \n",
            " 11  host_name                                     10164 non-null  object \n",
            " 12  host_since                                    10164 non-null  object \n",
            " 13  host_location                                 9024 non-null   object \n",
            " 14  host_about                                    5372 non-null   object \n",
            " 15  host_response_time                            6640 non-null   object \n",
            " 16  host_response_rate                            6640 non-null   object \n",
            " 17  host_acceptance_rate                          7937 non-null   object \n",
            " 18  host_is_superhost                             10069 non-null  object \n",
            " 19  host_thumbnail_url                            10164 non-null  object \n",
            " 20  host_picture_url                              10164 non-null  object \n",
            " 21  host_neighbourhood                            2814 non-null   object \n",
            " 22  host_listings_count                           10164 non-null  float64\n",
            " 23  host_total_listings_count                     10164 non-null  float64\n",
            " 24  host_verifications                            10164 non-null  object \n",
            " 25  host_has_profile_pic                          10164 non-null  object \n",
            " 26  host_identity_verified                        10164 non-null  object \n",
            " 27  neighbourhood                                 5258 non-null   object \n",
            " 28  neighbourhood_cleansed                        10168 non-null  object \n",
            " 29  latitude                                      10168 non-null  float64\n",
            " 30  longitude                                     10168 non-null  float64\n",
            " 31  property_type                                 10168 non-null  object \n",
            " 32  room_type                                     10168 non-null  object \n",
            " 33  accommodates                                  10168 non-null  int64  \n",
            " 34  bathrooms                                     6377 non-null   float64\n",
            " 35  bathrooms_text                                10162 non-null  object \n",
            " 36  bedrooms                                      9874 non-null   float64\n",
            " 37  beds                                          6341 non-null   float64\n",
            " 38  amenities                                     10168 non-null  object \n",
            " 39  price                                         10168 non-null  object \n",
            " 40  minimum_nights                                10168 non-null  int64  \n",
            " 41  maximum_nights                                10168 non-null  int64  \n",
            " 42  minimum_minimum_nights                        10168 non-null  int64  \n",
            " 43  maximum_minimum_nights                        10168 non-null  int64  \n",
            " 44  minimum_maximum_nights                        10168 non-null  int64  \n",
            " 45  maximum_maximum_nights                        10168 non-null  int64  \n",
            " 46  minimum_nights_avg_ntm                        10168 non-null  float64\n",
            " 47  maximum_nights_avg_ntm                        10168 non-null  float64\n",
            " 48  has_availability                              9849 non-null   object \n",
            " 49  availability_30                               10168 non-null  int64  \n",
            " 50  availability_60                               10168 non-null  int64  \n",
            " 51  availability_90                               10168 non-null  int64  \n",
            " 52  availability_365                              10168 non-null  int64  \n",
            " 53  calendar_last_scraped                         10168 non-null  object \n",
            " 54  number_of_reviews                             10168 non-null  int64  \n",
            " 55  number_of_reviews_ltm                         10168 non-null  int64  \n",
            " 56  number_of_reviews_l30d                        10168 non-null  int64  \n",
            " 57  availability_eoy                              10168 non-null  int64  \n",
            " 58  number_of_reviews_ly                          10168 non-null  int64  \n",
            " 59  estimated_occupancy_l365d                     10168 non-null  int64  \n",
            " 60  estimated_revenue_l365d                       6321 non-null   float64\n",
            " 61  first_review                                  9198 non-null   object \n",
            " 62  last_review                                   9198 non-null   object \n",
            " 63  review_scores_rating                          10168 non-null  float64\n",
            " 64  review_scores_accuracy                        9198 non-null   float64\n",
            " 65  review_scores_cleanliness                     9197 non-null   float64\n",
            " 66  review_scores_communication                   9198 non-null   float64\n",
            " 67  review_scores_location                        9198 non-null   float64\n",
            " 68  review_scores_value                           9198 non-null   float64\n",
            " 69  license                                       10062 non-null  object \n",
            " 70  instant_bookable                              10168 non-null  object \n",
            " 71  calculated_host_listings_count                10168 non-null  int64  \n",
            " 72  calculated_host_listings_count_entire_homes   10168 non-null  int64  \n",
            " 73  calculated_host_listings_count_private_rooms  10168 non-null  int64  \n",
            " 74  calculated_host_listings_count_shared_rooms   10168 non-null  int64  \n",
            " 75  reviews_per_month                             9198 non-null   float64\n",
            "dtypes: float64(17), int64(24), object(35)\n",
            "memory usage: 5.9+ MB\n"
          ]
        }
      ]
    },
    {
      "cell_type": "markdown",
      "metadata": {
        "id": "u1B2QQbZNoSj"
      },
      "source": [
        "### ✍️ Your Response: 🔧\n",
        "1. The two columns I cleaned are the price and review_scores_rating columns\n",
        "What method did you use for each, and why?\n",
        "What risks are there in how you filled the data?\n",
        "\n",
        "2. I used the forward fill for the price column because the price data seemed fairly accurate and a forward fill was sufficient for cleaning the pricing data to have a complete dataset.\n",
        "\n",
        "For the review_scores_rating I used filling in the values with the median to fill the value points with an overall of the ratings.\n",
        "\n",
        "3. There are many risks with the pricing being totally off for the AirBnB but I believe the forward fill was the best option for filling in null values. The risk of using median value for ratings is that it does not show the actual rating and gives a guess of what people say or rate the hotel on average.\n"
      ]
    },
    {
      "cell_type": "markdown",
      "metadata": {
        "id": "YmpUrgLVSNcl"
      },
      "source": [
        "## 5. Convert and Clean Data Types\n",
        "\n",
        "Business framing:  \n",
        "\n",
        "Sometimes columns that look like numbers are actually stored as text — which breaks calculations and slows down analysis. Common examples are price columns with dollar signs or availability stored as strings.\n",
        "\n",
        "- Identify one column with the wrong data type\n",
        "- Clean and convert it into a usable format (e.g., from string to number)\n",
        "- Check your work by summarizing or plotting the cleaned column\n",
        "\n",
        "### In Your Response: :\n",
        "1. What column did you fix?\n",
        "2. What cleaning steps did you apply?\n",
        "3. How does this help prepare the data for later use?\n"
      ]
    },
    {
      "cell_type": "code",
      "execution_count": 64,
      "metadata": {
        "id": "y637bPKuSNOL"
      },
      "outputs": [],
      "source": [
        "# Clean or adjust your dataset 🔧\n",
        "df['price'] = df['price'].astype(str).str.replace('$', '', regex=False).str.replace(',', '', regex=False).astype(float)\n"
      ]
    },
    {
      "cell_type": "code",
      "source": [
        "df.info()"
      ],
      "metadata": {
        "colab": {
          "base_uri": "https://localhost:8080/"
        },
        "id": "XH_9YUPxIAgO",
        "outputId": "d71ec0a7-a0e1-43ff-ea5b-3d3b45eaa929"
      },
      "execution_count": 65,
      "outputs": [
        {
          "output_type": "stream",
          "name": "stdout",
          "text": [
            "<class 'pandas.core.frame.DataFrame'>\n",
            "RangeIndex: 10168 entries, 0 to 10167\n",
            "Data columns (total 76 columns):\n",
            " #   Column                                        Non-Null Count  Dtype  \n",
            "---  ------                                        --------------  -----  \n",
            " 0   id                                            10168 non-null  int64  \n",
            " 1   listing_url                                   10168 non-null  object \n",
            " 2   scrape_id                                     10168 non-null  int64  \n",
            " 3   last_scraped                                  10168 non-null  object \n",
            " 4   source                                        10168 non-null  object \n",
            " 5   name                                          10168 non-null  object \n",
            " 6   description                                   9859 non-null   object \n",
            " 7   neighborhood_overview                         5258 non-null   object \n",
            " 8   picture_url                                   10168 non-null  object \n",
            " 9   host_id                                       10168 non-null  int64  \n",
            " 10  host_url                                      10168 non-null  object \n",
            " 11  host_name                                     10164 non-null  object \n",
            " 12  host_since                                    10164 non-null  object \n",
            " 13  host_location                                 9024 non-null   object \n",
            " 14  host_about                                    5372 non-null   object \n",
            " 15  host_response_time                            6640 non-null   object \n",
            " 16  host_response_rate                            6640 non-null   object \n",
            " 17  host_acceptance_rate                          7937 non-null   object \n",
            " 18  host_is_superhost                             10069 non-null  object \n",
            " 19  host_thumbnail_url                            10164 non-null  object \n",
            " 20  host_picture_url                              10164 non-null  object \n",
            " 21  host_neighbourhood                            2814 non-null   object \n",
            " 22  host_listings_count                           10164 non-null  float64\n",
            " 23  host_total_listings_count                     10164 non-null  float64\n",
            " 24  host_verifications                            10164 non-null  object \n",
            " 25  host_has_profile_pic                          10164 non-null  object \n",
            " 26  host_identity_verified                        10164 non-null  object \n",
            " 27  neighbourhood                                 5258 non-null   object \n",
            " 28  neighbourhood_cleansed                        10168 non-null  object \n",
            " 29  latitude                                      10168 non-null  float64\n",
            " 30  longitude                                     10168 non-null  float64\n",
            " 31  property_type                                 10168 non-null  object \n",
            " 32  room_type                                     10168 non-null  object \n",
            " 33  accommodates                                  10168 non-null  int64  \n",
            " 34  bathrooms                                     10168 non-null  int64  \n",
            " 35  bathrooms_text                                10162 non-null  object \n",
            " 36  bedrooms                                      9874 non-null   float64\n",
            " 37  beds                                          6341 non-null   float64\n",
            " 38  amenities                                     10168 non-null  object \n",
            " 39  price                                         6321 non-null   float64\n",
            " 40  minimum_nights                                10168 non-null  int64  \n",
            " 41  maximum_nights                                10168 non-null  int64  \n",
            " 42  minimum_minimum_nights                        10168 non-null  int64  \n",
            " 43  maximum_minimum_nights                        10168 non-null  int64  \n",
            " 44  minimum_maximum_nights                        10168 non-null  int64  \n",
            " 45  maximum_maximum_nights                        10168 non-null  int64  \n",
            " 46  minimum_nights_avg_ntm                        10168 non-null  float64\n",
            " 47  maximum_nights_avg_ntm                        10168 non-null  float64\n",
            " 48  has_availability                              9849 non-null   object \n",
            " 49  availability_30                               10168 non-null  int64  \n",
            " 50  availability_60                               10168 non-null  int64  \n",
            " 51  availability_90                               10168 non-null  int64  \n",
            " 52  availability_365                              10168 non-null  int64  \n",
            " 53  calendar_last_scraped                         10168 non-null  object \n",
            " 54  number_of_reviews                             10168 non-null  int64  \n",
            " 55  number_of_reviews_ltm                         10168 non-null  int64  \n",
            " 56  number_of_reviews_l30d                        10168 non-null  int64  \n",
            " 57  availability_eoy                              10168 non-null  int64  \n",
            " 58  number_of_reviews_ly                          10168 non-null  int64  \n",
            " 59  estimated_occupancy_l365d                     10168 non-null  int64  \n",
            " 60  estimated_revenue_l365d                       6321 non-null   float64\n",
            " 61  first_review                                  9198 non-null   object \n",
            " 62  last_review                                   9198 non-null   object \n",
            " 63  review_scores_rating                          9198 non-null   float64\n",
            " 64  review_scores_accuracy                        9198 non-null   float64\n",
            " 65  review_scores_cleanliness                     9197 non-null   float64\n",
            " 66  review_scores_communication                   9198 non-null   float64\n",
            " 67  review_scores_location                        9198 non-null   float64\n",
            " 68  review_scores_value                           9198 non-null   float64\n",
            " 69  license                                       10062 non-null  object \n",
            " 70  instant_bookable                              10168 non-null  object \n",
            " 71  calculated_host_listings_count                10168 non-null  int64  \n",
            " 72  calculated_host_listings_count_entire_homes   10168 non-null  int64  \n",
            " 73  calculated_host_listings_count_private_rooms  10168 non-null  int64  \n",
            " 74  calculated_host_listings_count_shared_rooms   10168 non-null  int64  \n",
            " 75  reviews_per_month                             9198 non-null   float64\n",
            "dtypes: float64(17), int64(25), object(34)\n",
            "memory usage: 5.9+ MB\n"
          ]
        }
      ]
    },
    {
      "cell_type": "markdown",
      "metadata": {
        "id": "2QznnHuPGxdq"
      },
      "source": [
        "### ✍️ Your Response: 🔧\n",
        "1. I fixed the pricing column\n",
        "\n",
        "2. The pricing column is now a float and not an object. Get rid of the $ signs and then conver the str into a float\n",
        "\n",
        "3. This helps prepare my data by enabling the useage of the price column for numeric evaluation and not getting stopped because it is defined as a string."
      ]
    },
    {
      "cell_type": "markdown",
      "metadata": {
        "id": "Zvsas_ckG6-u"
      },
      "source": [
        "## 6. Remove Duplicate Records\n",
        "\n",
        "Business framing:  \n",
        "\n",
        "If a listing appears twice, it could inflate revenue estimates or confuse users. Airbnb needs each listing to be unique and accurate.\n",
        "\n",
        "- Check for rows that are exact duplicates\n",
        "- If your data has an ID column and each ID is supposed to unique, then make sure there are no duplicate IDs\n",
        "- Remove duplicates if found\n",
        "\n",
        "### In your markdown:\n",
        "1. Did you find duplicates?\n",
        "2. How did you decide what to drop or keep?\n",
        "3. Why are duplicates risky for Airbnb teams?\n"
      ]
    },
    {
      "cell_type": "code",
      "execution_count": 67,
      "metadata": {
        "id": "0KyeZUR0G_Tk",
        "colab": {
          "base_uri": "https://localhost:8080/"
        },
        "outputId": "db94ec16-31b6-40a6-8815-26b313b08185"
      },
      "outputs": [
        {
          "output_type": "stream",
          "name": "stdout",
          "text": [
            "Number of duplicate IDs: 0\n"
          ]
        }
      ],
      "source": [
        "# Add code here 🔧\n",
        "print(f\"Number of duplicate IDs: {df['id'].duplicated().sum()}\")"
      ]
    },
    {
      "cell_type": "code",
      "source": [
        "df.info()"
      ],
      "metadata": {
        "colab": {
          "base_uri": "https://localhost:8080/"
        },
        "id": "DsnodZMSI8Zx",
        "outputId": "dd2abbe7-f65f-4b72-c92c-25f4141e5d5a"
      },
      "execution_count": 68,
      "outputs": [
        {
          "output_type": "stream",
          "name": "stdout",
          "text": [
            "<class 'pandas.core.frame.DataFrame'>\n",
            "RangeIndex: 10168 entries, 0 to 10167\n",
            "Data columns (total 76 columns):\n",
            " #   Column                                        Non-Null Count  Dtype  \n",
            "---  ------                                        --------------  -----  \n",
            " 0   id                                            10168 non-null  int64  \n",
            " 1   listing_url                                   10168 non-null  object \n",
            " 2   scrape_id                                     10168 non-null  int64  \n",
            " 3   last_scraped                                  10168 non-null  object \n",
            " 4   source                                        10168 non-null  object \n",
            " 5   name                                          10168 non-null  object \n",
            " 6   description                                   9859 non-null   object \n",
            " 7   neighborhood_overview                         5258 non-null   object \n",
            " 8   picture_url                                   10168 non-null  object \n",
            " 9   host_id                                       10168 non-null  int64  \n",
            " 10  host_url                                      10168 non-null  object \n",
            " 11  host_name                                     10164 non-null  object \n",
            " 12  host_since                                    10164 non-null  object \n",
            " 13  host_location                                 9024 non-null   object \n",
            " 14  host_about                                    5372 non-null   object \n",
            " 15  host_response_time                            6640 non-null   object \n",
            " 16  host_response_rate                            6640 non-null   object \n",
            " 17  host_acceptance_rate                          7937 non-null   object \n",
            " 18  host_is_superhost                             10069 non-null  object \n",
            " 19  host_thumbnail_url                            10164 non-null  object \n",
            " 20  host_picture_url                              10164 non-null  object \n",
            " 21  host_neighbourhood                            2814 non-null   object \n",
            " 22  host_listings_count                           10164 non-null  float64\n",
            " 23  host_total_listings_count                     10164 non-null  float64\n",
            " 24  host_verifications                            10164 non-null  object \n",
            " 25  host_has_profile_pic                          10164 non-null  object \n",
            " 26  host_identity_verified                        10164 non-null  object \n",
            " 27  neighbourhood                                 5258 non-null   object \n",
            " 28  neighbourhood_cleansed                        10168 non-null  object \n",
            " 29  latitude                                      10168 non-null  float64\n",
            " 30  longitude                                     10168 non-null  float64\n",
            " 31  property_type                                 10168 non-null  object \n",
            " 32  room_type                                     10168 non-null  object \n",
            " 33  accommodates                                  10168 non-null  int64  \n",
            " 34  bathrooms                                     10168 non-null  int64  \n",
            " 35  bathrooms_text                                10162 non-null  object \n",
            " 36  bedrooms                                      9874 non-null   float64\n",
            " 37  beds                                          6341 non-null   float64\n",
            " 38  amenities                                     10168 non-null  object \n",
            " 39  price                                         6321 non-null   float64\n",
            " 40  minimum_nights                                10168 non-null  int64  \n",
            " 41  maximum_nights                                10168 non-null  int64  \n",
            " 42  minimum_minimum_nights                        10168 non-null  int64  \n",
            " 43  maximum_minimum_nights                        10168 non-null  int64  \n",
            " 44  minimum_maximum_nights                        10168 non-null  int64  \n",
            " 45  maximum_maximum_nights                        10168 non-null  int64  \n",
            " 46  minimum_nights_avg_ntm                        10168 non-null  float64\n",
            " 47  maximum_nights_avg_ntm                        10168 non-null  float64\n",
            " 48  has_availability                              9849 non-null   object \n",
            " 49  availability_30                               10168 non-null  int64  \n",
            " 50  availability_60                               10168 non-null  int64  \n",
            " 51  availability_90                               10168 non-null  int64  \n",
            " 52  availability_365                              10168 non-null  int64  \n",
            " 53  calendar_last_scraped                         10168 non-null  object \n",
            " 54  number_of_reviews                             10168 non-null  int64  \n",
            " 55  number_of_reviews_ltm                         10168 non-null  int64  \n",
            " 56  number_of_reviews_l30d                        10168 non-null  int64  \n",
            " 57  availability_eoy                              10168 non-null  int64  \n",
            " 58  number_of_reviews_ly                          10168 non-null  int64  \n",
            " 59  estimated_occupancy_l365d                     10168 non-null  int64  \n",
            " 60  estimated_revenue_l365d                       6321 non-null   float64\n",
            " 61  first_review                                  9198 non-null   object \n",
            " 62  last_review                                   9198 non-null   object \n",
            " 63  review_scores_rating                          9198 non-null   float64\n",
            " 64  review_scores_accuracy                        9198 non-null   float64\n",
            " 65  review_scores_cleanliness                     9197 non-null   float64\n",
            " 66  review_scores_communication                   9198 non-null   float64\n",
            " 67  review_scores_location                        9198 non-null   float64\n",
            " 68  review_scores_value                           9198 non-null   float64\n",
            " 69  license                                       10062 non-null  object \n",
            " 70  instant_bookable                              10168 non-null  object \n",
            " 71  calculated_host_listings_count                10168 non-null  int64  \n",
            " 72  calculated_host_listings_count_entire_homes   10168 non-null  int64  \n",
            " 73  calculated_host_listings_count_private_rooms  10168 non-null  int64  \n",
            " 74  calculated_host_listings_count_shared_rooms   10168 non-null  int64  \n",
            " 75  reviews_per_month                             9198 non-null   float64\n",
            "dtypes: float64(17), int64(25), object(34)\n",
            "memory usage: 5.9+ MB\n"
          ]
        }
      ]
    },
    {
      "cell_type": "markdown",
      "metadata": {
        "id": "OuTQ2nMAHBIO"
      },
      "source": [
        "### ✍️ Your Response: 🔧 🔧\n",
        "1. I did not find any duplicates\n",
        "\n",
        "2. If there was duplicates, you would have to, depending on the data value, either delete the duplicate or identify if it was the same value being input twice for a valid reason.\n",
        "\n",
        "3. Duplicates are harmful for AirBnB because of the chance of having people double book a reservation, causing two people to book the same spot."
      ]
    },
    {
      "cell_type": "markdown",
      "metadata": {
        "id": "6a8Rc945m9PQ"
      },
      "source": [
        "## 7. Export Cleaned Data\n",
        "\n",
        "Before wrapping up, export your cleaned Airbnb dataset to a CSV file. You'll need this file for **Assignment 7**, where you'll perform data transformation techniques.\n",
        "\n",
        "Make sure your data has:\n",
        "- Cleaned and consistent column values\n",
        "- Proper data types for each column\n",
        "- Any unnecessary columns removed\n",
        "\n",
        "This file should be the version of your dataset that you’d feel confident sharing with a teammate or using for deeper analysis.\n",
        "\n",
        "\n",
        "\n",
        "```\n",
        "# Explanation:\n",
        "# - \"cleaned_airbnb_data.csv\" is the name of the file that will be saved\n",
        "# - index=False prevents pandas from writing row numbers into the CSV\n",
        "# - The file will be saved to your working directory (in Colab, you'll need to download it manually. Once you see the data in your files tab, just click on the three dots, then click “download”)\n",
        "# - YOU MAY NEED TO PRESS “RUN” MULTIPLE TIMES IN ORDER FOR IT TO SHOW UP\n",
        "# - FOR SOME DEVICES, IT MAY TAKE A FEW MINUTES BEFORE YOUR FILE SHOWS UP\n",
        "\n",
        "```\n",
        "\n",
        "\n",
        "\n"
      ]
    },
    {
      "cell_type": "code",
      "execution_count": 70,
      "metadata": {
        "id": "SYjYwyYonTi9"
      },
      "outputs": [],
      "source": [
        "# export csv here 🔧\n",
        "df.to_csv('cleaned_airbnb_data.csv')"
      ]
    },
    {
      "cell_type": "markdown",
      "metadata": {
        "id": "HrhzfHDRSfkr"
      },
      "source": [
        "## 8. Final Reflection\n",
        "\n",
        "You’ve just cleaned a real-world Airbnb dataset — the kind of work that happens every day in analyst and data science roles.\n",
        "\n",
        "Before you move on to data transformation in Assignment 7, take a few moments to reflect on the decisions you made and what you learned.\n",
        "\n",
        "### In your markdown:\n",
        "1. What was the most surprising or challenging part of cleaning this dataset?\n",
        "2. How did you decide which data to drop, fix, or keep?\n",
        "3. What’s one way a business team (e.g., hosts, pricing analysts, platform ops) might benefit from the cleaned version of this data?\n",
        "4. If you had more time, what would you explore or clean further?\n",
        "5. How does this relate to your customized learning outcome you created in canvas?\n",
        "\n",
        "\n",
        "Write your response clearly in full sentences. No more than a few sentences required per response.\n"
      ]
    },
    {
      "cell_type": "markdown",
      "metadata": {
        "id": "oAFnMYRqSd7A"
      },
      "source": [
        "### ✍️ Your Response: 🔧\n",
        "\n",
        "1. __  The most challenging part of cleansing the dataset is looking for the errors or issues that will arise if data cleansing does not occur. As well as, identifying the proper way to clean the data without messing it up.\n",
        "\n",
        "2. __  I used my intuition and common sense with my knowledge on AirBnB and decide what data seems like out of the ordinary and what to drop or keep.  \n",
        "\n",
        "3. __  The pricing analysts benefit from this cleaned data to identify more profitable areas and places where AirBnb's get booked more often.\n",
        "\n",
        "4. __  I would explore the bathrooms and bedrooms values to see where all the missing values are coming from.\n",
        "\n",
        "5. __  This relates to my customized learning outcome with learning how to use data analytics tools to help with my data analytics of environment and how it affects ski resorts.\n"
      ]
    },
    {
      "cell_type": "markdown",
      "metadata": {
        "id": "MIzm-EIeS065"
      },
      "source": [
        "## Submission Instructions\n",
        "✅ Checklist:\n",
        "- All code cells run without error\n",
        "- All markdown responses are complete\n",
        "- Submit on Canvas as instructed"
      ]
    },
    {
      "cell_type": "code",
      "execution_count": 71,
      "metadata": {
        "id": "4r96_VSCtPHZ",
        "colab": {
          "base_uri": "https://localhost:8080/"
        },
        "outputId": "a833624d-9931-43b2-d43d-f96168eeb4e4"
      },
      "outputs": [
        {
          "output_type": "stream",
          "name": "stdout",
          "text": [
            "[NbConvertApp] Converting notebook assignment_06_HunterDaxton.ipynb to html\n",
            "[NbConvertApp] Writing 337577 bytes to assignment_06_HunterDaxton.html\n"
          ]
        }
      ],
      "source": [
        "!jupyter nbconvert --to html \"assignment_06_HunterDaxton.ipynb\""
      ]
    }
  ],
  "metadata": {
    "colab": {
      "provenance": []
    },
    "kernelspec": {
      "display_name": "Python 3",
      "name": "python3"
    },
    "language_info": {
      "name": "python"
    }
  },
  "nbformat": 4,
  "nbformat_minor": 0
}