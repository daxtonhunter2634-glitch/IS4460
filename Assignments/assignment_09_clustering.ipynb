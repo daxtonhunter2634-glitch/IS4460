{
  "cells": [
    {
      "cell_type": "markdown",
      "metadata": {
        "id": "mZdQBj2ERXhh"
      },
      "source": [
        "# **IS 4487 Assignment 9: Customer Segmentation with Clustering**\n",
        "\n",
        "In this assignment, you will:\n",
        "- Apply unsupervised learning to explore patterns in hotel booking behavior\n",
        "- Use K-Means and Gaussian Mixture Models (GMM) for customer segmentation\n",
        "- Evaluate model quality with metrics like Silhouette Score and Davies-Bouldin Index\n",
        "- Connect clustering to actionable business insights\n",
        "\n",
        "## Why This Matters\n",
        "\n",
        "Businesses like hotels and travel platforms (e.g., Airbnb or Expedia) rely on customer segmentation to tailor promotions, pricing strategies, and service levels. Unlike supervised models, clustering helps uncover patterns when no labels exist—an ideal tool when entering new markets or analyzing unstructured customer behavior.\n",
        "\n",
        "<a href=\"https://colab.research.google.com/github/vandanara/UofUtah_IS4487/blob/main/Assignments/assignment_09_clustering.ipynb\" target=\"_parent\">\n",
        "  <img src=\"https://colab.research.google.com/assets/colab-badge.svg\" alt=\"Open In Colab\"/>\n",
        "</a>\n"
      ]
    },
    {
      "cell_type": "markdown",
      "metadata": {
        "id": "REhVR53bRdNX"
      },
      "source": [
        "## Business Context: Hotel Bookings\n",
        "\n",
        "### Dataset Description:\n",
        "\n",
        "This dataset contains booking information for two types of hotels: a **city hotel** and a **resort hotel**. Each record corresponds to a single booking and includes various details about the reservation, customer demographics, booking source, and whether the booking was canceled.\n",
        "\n",
        "**Source**: [GitHub - TidyTuesday: Hotel Bookings](https://github.com/rfordatascience/tidytuesday/blob/master/data/2020/2020-02-11/readme.md)\n",
        "\n",
        "### Key Use Cases\n",
        "- Understand customer booking behavior\n",
        "- Explore factors related to cancellations\n",
        "- Segment guests based on booking characteristics\n",
        "- Compare city vs. resort hotel performance\n",
        "\n",
        "### Data Dictionary\n",
        "\n",
        "| Variable | Type | Description |\n",
        "|----------|------|-------------|\n",
        "| `hotel` | character | Hotel type: City or Resort |\n",
        "| `is_canceled` | integer | 1 = Canceled, 0 = Not Canceled |\n",
        "| `lead_time` | integer | Days between booking and arrival |\n",
        "| `arrival_date_year` | integer | Year of arrival |\n",
        "| `arrival_date_month` | character | Month of arrival |\n",
        "| `stays_in_weekend_nights` | integer | Nights stayed on weekends |\n",
        "| `stays_in_week_nights` | integer | Nights stayed on weekdays |\n",
        "| `adults` | integer | Number of adults |\n",
        "| `children` | integer | Number of children |\n",
        "| `babies` | integer | Number of babies |\n",
        "| `meal` | character | Type of meal booked |\n",
        "| `country` | character | Country code of origin |\n",
        "| `market_segment` | character | Booking source (e.g., Direct, Online TA) |\n",
        "| `distribution_channel` | character | Booking channel used |\n",
        "| `is_repeated_guest` | integer | 1 = Repeated guest, 0 = New guest |\n",
        "| `previous_cancellations` | integer | Past booking cancellations |\n",
        "| `previous_bookings_not_canceled` | integer | Past bookings not canceled |\n",
        "| `reserved_room_type` | character | Initially reserved room type |\n",
        "| `assigned_room_type` | character | Room type assigned at check-in |\n",
        "| `booking_changes` | integer | Number of booking modifications |\n",
        "| `deposit_type` | character | Deposit type (No Deposit, Non-Refund, etc.) |\n",
        "| `agent` | character | Agent ID who made the booking |\n",
        "| `company` | character | Company ID (if booking through company) |\n",
        "| `days_in_waiting_list` | integer | Days on the waiting list |\n",
        "| `customer_type` | character | Booking type: Contract, Transient, etc. |\n",
        "| `adr` | float | Average Daily Rate (price per night) |\n",
        "| `required_car_parking_spaces` | integer | Requested parking spots |\n",
        "| `total_of_special_requests` | integer | Number of special requests made |\n",
        "| `reservation_status` | character | Final status (Canceled, No-Show, Check-Out) |\n",
        "| `reservation_status_date` | date | Date of the last status update |\n",
        "\n",
        "This dataset is ideal for classification, clustering, and trend analysis exercises."
      ]
    },
    {
      "cell_type": "markdown",
      "metadata": {
        "id": "d6AjFFc0R0BA"
      },
      "source": [
        "## **Task 1. Setup and Load Data**\n",
        "\n",
        "Business framing:  \n",
        "\n",
        "Before we can cluster or segment anything, we need clean, accessible data in a usable format.\n",
        "\n",
        "1.1. Import the necessary Python libraries\n",
        "\n",
        "1.2. Load the hotel bookings dataset [(Download Here)](https://github.com/rfordatascience/tidytuesday/blob/main/data/2020/2020-02-11/readme.md#get-the-data-here) or using this link: https://raw.githubusercontent.com/rfordatascience/tidytuesday/main/data/2020/2020-02-11/hotels.csv\n",
        "\n",
        "1.3. Display the first few rows\n",
        "\n"
      ]
    },
    {
      "cell_type": "code",
      "execution_count": null,
      "metadata": {
        "id": "zdLeoe0eSAGw"
      },
      "outputs": [],
      "source": [
        "# 🔧 1.1. Add code here\n",
        "import pandas as pd\n",
        "import numpy as np\n",
        "import matplotlib.pyplot as plt\n",
        "import seaborn as sns\n",
        "from sklearn.preprocessing import StandardScaler\n",
        "from sklearn.cluster import KMeans\n",
        "from sklearn.mixture import GaussianMixture\n",
        "from sklearn.metrics import silhouette_score, davies_bouldin_score\n",
        "\n",
        "# 🔧 1.2. Add code here\n",
        "url = \"https://raw.githubusercontent.com/rfordatascience/tidytuesday/master/data/2020/2020-02-11/hotels.csv\"\n",
        "df = pd.read_csv(url)\n",
        "\n",
        "# 🔧 1.3. Add code here\n",
        "df.head()"
      ]
    },
    {
      "cell_type": "markdown",
      "metadata": {
        "id": "utMWLdU4SzcX"
      },
      "source": [
        "### ✍️ Please answer the following:\n",
        "\n",
        "1.4. What stands out in the initial preview? Any columns or rows that seem unusual?\n",
        "\n",
        "### ✍️ Your Response:\n",
        "\n",
        "1.4."
      ]
    },
    {
      "cell_type": "markdown",
      "metadata": {
        "id": "AcW1-bXhR-ar"
      },
      "source": [
        "## **Task 2. Select and Prepare Features**\n",
        "\n",
        "Business framing:  \n",
        "\n",
        "A hotel might want to group guests based on how long they stay, how far in advance they book, or how likely they are to make special requests. You need to pick variables that represent meaningful guest behavior.\n",
        "\n",
        "2.1. Choose 3-5 numeric features related to customer behavior\n",
        "\n",
        "2.2. Drop missing values if needed\n",
        "\n",
        "2.3. Standardize using `StandardScaler`\n",
        "\n"
      ]
    },
    {
      "cell_type": "code",
      "execution_count": null,
      "metadata": {
        "id": "-Nblj3blSOG0"
      },
      "outputs": [],
      "source": [
        "# 🔧 2.1. Add code here\n",
        "\n",
        "\n",
        "# 🔧 2.2. Add code here\n",
        "\n",
        "\n",
        "# 🔧 2.3. Add code here\n",
        "\n"
      ]
    },
    {
      "cell_type": "markdown",
      "metadata": {
        "id": "JLXg6CEsSKx9"
      },
      "source": [
        "### ✍️ Please answer the following:\n",
        "\n",
        "2.4. What features did you select and why?\n",
        "\n",
        "2.5. What kinds of patterns or segments do you expect to find?\n",
        "\n",
        "### ✍️ Your Response:\n",
        "2.4.\n",
        "\n",
        "2.5.\n"
      ]
    },
    {
      "cell_type": "markdown",
      "metadata": {
        "id": "VrHjWxq9SWPV"
      },
      "source": [
        "## **Task 3. Apply K-Means Clustering**\n",
        "\n",
        "Business framing:  \n",
        "\n",
        "Let’s say you’re working with the hotel’s marketing manager. She wants to group guests into a few clear types to target email campaigns. K-Means is a fast, simple way to try this.\n",
        "\n",
        "3.1. Fit a `KMeans` model with your selected features. Choose a value of `k` (e.g. 3, 4, or 5)\n",
        "\n",
        "3.2. Predict clusters and assign to each guest\n",
        "\n",
        "3.3. Visualize using a scatterplot of 2 key features (optionally use a third feature for size or a fourth feature for style)\n",
        "\n",
        "Much of this assignment has already been covered in the lab. Please be sure to complete the lab before the assignment.\n",
        "\n"
      ]
    },
    {
      "cell_type": "code",
      "execution_count": null,
      "metadata": {
        "id": "9Pcxfx5vSc-G"
      },
      "outputs": [],
      "source": [
        "# 🔧 3.1. Add code here\n",
        "\n",
        "# 🔧 3.2. Add code here\n",
        "\n",
        "# 🔧 3.3. Add code here\n",
        "\n"
      ]
    },
    {
      "cell_type": "markdown",
      "metadata": {
        "id": "3OtgdSkwSbRn"
      },
      "source": [
        "### ✍️ Please answer the following:\n",
        "\n",
        "3.4. What `k` value did you choose, and how did you decide?\n",
        "\n",
        "3.5. What types of customers seem to show up in the clusters?\n",
        "\n",
        "### ✍️ Your Response:\n",
        "3.4.\n",
        "\n",
        "3.5.\n"
      ]
    },
    {
      "cell_type": "markdown",
      "metadata": {
        "id": "8uQB_tqUTD81"
      },
      "source": [
        "## **Task 4. Apply Gaussian Mixture Model (GMM)**\n",
        "\n",
        "Business framing:  \n",
        "\n",
        "Not all guests fit neatly into one cluster. GMM lets us capture uncertainty — useful if customers behave similarly across groups.\n",
        "\n",
        "4.1. Fit a GMM with the same number of clusters you chose in Part 3\n",
        "\n",
        "4.2. Predict soft clusters (remember that soft clustering deals with probabilities, not labels). Show the cluster probabilities for 5 sample observations/customer records.\n",
        "\n",
        "4.3. Visualize the GMM model so that you may compare it to the KMeans scatterplot\n",
        "\n"
      ]
    },
    {
      "cell_type": "code",
      "execution_count": null,
      "metadata": {
        "id": "5j3joPmTRCvX"
      },
      "outputs": [],
      "source": [
        "# 🔧 4.1. Add code here\n",
        "\n",
        "\n",
        "# 🔧 4.2. Add code here\n",
        "\n",
        "\n",
        "# 🔧 4.3. Add code here\n",
        "\n"
      ]
    },
    {
      "cell_type": "markdown",
      "metadata": {
        "id": "9TptM8qNTVV4"
      },
      "source": [
        "### ✍️ Please answer the following:\n",
        "\n",
        "4.4. How did the GMM results compare to KMeans? You can compare visualizations or cross-tabulations/contingency tables.\n",
        "\n",
        "4.5. What business questions might GMM help answer better?\n",
        "\n",
        "### ✍️ Your Response:\n",
        "4.4.\n",
        "\n",
        "4.5.\n"
      ]
    },
    {
      "cell_type": "markdown",
      "metadata": {
        "id": "gyxplbytTL3d"
      },
      "source": [
        "## **Task 5. Evaluate Your Models**\n",
        "\n",
        "Business framing:  \n",
        "\n",
        "In business, models should be both useful and reliable. You’ll compare model quality using standard evaluation metrics, such as\n",
        "  - WCSS\n",
        "  - Silhouette Score\n",
        "  - Davies-Bouldin Index\n",
        "\n",
        "5.1. - 5.2. Compare above metrics for both models - K-Means and GMM clusters\n",
        "\n",
        "**Remember**:\n",
        "- Lower WCSS = tighter, better-defined clusters\n",
        "- Silhouette score ranges from -1 to 1.  Higher values = better clustering\n",
        "- Lower Davies-Boulding Index = better clustering\n"
      ]
    },
    {
      "cell_type": "code",
      "execution_count": null,
      "metadata": {
        "id": "emFtaEP3TOfJ"
      },
      "outputs": [],
      "source": [
        "# 🔧 5.1. Add code here\n",
        "\n",
        "\n",
        "# 🔧 5.2. Add code here"
      ]
    },
    {
      "cell_type": "markdown",
      "metadata": {
        "id": "UlxF6KDMTQOB"
      },
      "source": [
        "### ✍️ Please answer the following:\n",
        "\n",
        "5.3. Which model performed better on the metrics?\n",
        "\n",
        "5.4. Would you recommend KMeans or GMM for a business analyst? Why?\n",
        "\n",
        "### ✍️ Your Response:\n",
        "1.\n",
        "\n",
        "2.\n"
      ]
    },
    {
      "cell_type": "markdown",
      "metadata": {
        "id": "7POkZoyuTb1N"
      },
      "source": [
        "## **Task 6. Business Interpretation\n",
        "\n",
        "Business framing:  \n",
        "\n",
        "What do these clusters mean in the real world? Could they represent solo travelers, families, or bargain shoppers?\n",
        "\n",
        "6.1. Review relevant characteristics of each cluster (e.g. average `lead_time`, `special_requests`) to help you compare the clusters meaningfully. You can use K-Means clusters.Think from a marketing or hotel operations perspective\n",
        "\n"
      ]
    },
    {
      "cell_type": "code",
      "execution_count": null,
      "metadata": {
        "id": "_LB7Q6hPTeJF"
      },
      "outputs": [],
      "source": [
        "# 🔧 6.1. Add code here"
      ]
    },
    {
      "cell_type": "markdown",
      "metadata": {
        "id": "HUZgwQ4lTfsv"
      },
      "source": [
        "### ✍️ Please answer the following:\n",
        "\n",
        "6.2. What do the segments represent in terms of guest behavior?\n",
        "\n",
        "6.3. How could the hotel tailor services or promotions to each group?\n",
        "\n",
        "\n",
        "### ✍️ Your Response:\n",
        "1.\n",
        "\n",
        "2.\n"
      ]
    },
    {
      "cell_type": "markdown",
      "metadata": {
        "id": "9jqWFFi9TnsP"
      },
      "source": [
        "## **Task 7. Final Reflection**\n",
        "\n",
        "Business framing:  \n",
        "\n",
        "Many teams ask for \"segmentation\" without knowing how it works. You now have hands-on experience with two clustering techniques and how to present the results.\n",
        "\n",
        "### ✍️ Please answer the following:\n",
        "\n",
        "7.1. What was most challenging about unsupervised learning?\n",
        "\n",
        "7.2. When would you use clustering instead of supervised models?\n",
        "\n",
        "7.3. How would you explain the value of clustering to a non-technical manager?\n",
        "\n",
        "7.4. How does this relate to your customized learning outcome you created in canvas?\n",
        "\n",
        "\n",
        "### ✍️ Your Response:\n",
        "\n",
        "7.1.\n",
        "\n",
        "7.2.\n",
        "\n",
        "7.3.\n",
        "\n",
        "7.4."
      ]
    },
    {
      "cell_type": "markdown",
      "metadata": {
        "id": "WMdS3hByTrfb"
      },
      "source": []
    },
    {
      "cell_type": "markdown",
      "metadata": {
        "id": "6USM2DivTx8t"
      },
      "source": [
        "## Submission Instructions\n",
        "\n",
        "✅ **Before submitting:**\n",
        "- Make sure all code cells are run and outputs are visible  \n",
        "- All markdown questions are answered thoughtfully  \n",
        "- Save the file with your last name and first name as shown below (see detailed instructions in Lab 1 on how to do this).\n",
        "- Submit the assignment as an **HTML file** on Canvas\n"
      ]
    },
    {
      "cell_type": "code",
      "execution_count": null,
      "metadata": {
        "id": "-RzdiUj1UlCM"
      },
      "outputs": [],
      "source": [
        "!jupyter nbconvert --to html \"assignment_09_LastnameFirstname.ipynb\""
      ]
    }
  ],
  "metadata": {
    "colab": {
      "provenance": []
    },
    "kernelspec": {
      "display_name": "Python 3",
      "name": "python3"
    },
    "language_info": {
      "name": "python"
    }
  },
  "nbformat": 4,
  "nbformat_minor": 0
}